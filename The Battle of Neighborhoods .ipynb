{
    "cells": [
        {
            "cell_type": "markdown",
            "metadata": {},
            "source": "<h1>Capstone Project - Predicting Suitable location for a New Italian Restaurant throughout the city of Newyork<h2>"
        },
        {
            "cell_type": "markdown",
            "metadata": {
                "collapsed": true
            },
            "source": "<h1>The Battle of Neighborhoods</h1>  \n<h3>Introduction/Business Problem </h3> \n<br> \nThe United States of America is one of the most diversified countries in the world. This is because it is one of the most developed countries in the world and many people from different countries flock there. These make it possible to see different cultures all cohabiting together. As a result of this, many different businesses have also sprouted up. There are now chinese restaurants, African restaurants, Indian restaurants, etc.\n<br>\nThe craving for food from different  countries has also risen. For instance, a chinese may want to try out how Indian food tastes, an american may also want to try Afican delicacy, etc. Although there are a lot of restaurants in New York, the project focuses on the suitable location of a new Indian restaurant in Queens, New York. The stakeholders will determine the best location to plant a new Indian restaurant in Queens, New York.Some important characteristics of this location is that it has no Indian restaurants within 400m.\n<br>\nThis project aims to predict where to set up a new Indian restaurant in the neighborhood of Queens where there is none within 400 metres. Other parameters are used to determine the precise position on which to concentrate. Stakeholders will be involved in forecasting precisely where a new Indian restaurant would be situated for competitive advantage and business values. Others who'll be involved include Indians in that locality."
        },
        {
            "cell_type": "markdown",
            "metadata": {},
            "source": "<h5>Introduction: Problem Statement</h5>\n\nThe United States of America is one of the most diversified countries in the world. This is because it is one of the most developed countries in the world and many people from different countries flock there. These make it possible to see different cultures all cohabiting together. \n\nAs a result of this factor and many others, many different businesses have also sprouted up. There are now chinese restaurants, African restaurants, Indian restaurants, etc. \n\nThe craving for food from different  countries has also risen. For instance, a Chinese may want to try out how Indian food tastes, an american may also want to try out Afican delicacy, etc. Although there are a lot of restaurants in New York, the project focuses on the suitable location of a new Italian restaurant in Queens, New York. The stakeholders will determine the best location to plant a new Italian restaurant in cities in Newyork, United States."
        },
        {
            "cell_type": "markdown",
            "metadata": {},
            "source": "New York Center coordinates can be obtained using a geocoding of the Google Maps API. \n\nThe number of restaurants and their form and location in each neighborhood will be obtained using the Foursquare API. \n\nPython library geopy will be used to obtain approximate addresses of centers of those neighborhoods. \n"
        },
        {
            "cell_type": "code",
            "execution_count": null,
            "metadata": {},
            "outputs": [],
            "source": ""
        }
    ],
    "metadata": {
        "kernelspec": {
            "display_name": "Python 3.6",
            "language": "python",
            "name": "python3"
        },
        "language_info": {
            "codemirror_mode": {
                "name": "ipython",
                "version": 3
            },
            "file_extension": ".py",
            "mimetype": "text/x-python",
            "name": "python",
            "nbconvert_exporter": "python",
            "pygments_lexer": "ipython3",
            "version": "3.6.9"
        }
    },
    "nbformat": 4,
    "nbformat_minor": 1
}