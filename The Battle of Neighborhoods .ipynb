{
    "cells": [
        {
            "cell_type": "markdown",
            "metadata": {},
            "source": "<h1>Capstone Project - Predicting Suitable location for a New Italian Restaurant throughout the city of Newyork<h2>"
        },
        {
            "cell_type": "markdown",
            "metadata": {
                "collapsed": true
            },
            "source": "<h1>The Battle of Neighborhoods</h1>  \n<h3>Introduction/Business Problem </h3> \n<br> \nThe United States of America is one of the most diversified countries in the world. This is because it is one of the most developed countries in the world and many people from different countries flock there. These make it possible to see different cultures all cohabiting together. As a result of this, many different businesses have also sprouted up. There are now chinese restaurants, African restaurants, Indian restaurants, etc.\n<br>\nThe craving for food from different  countries has also risen. For instance, a chinese may want to try out how Indian food tastes, an american may also want to try Afican delicacy, etc. Although there are a lot of restaurants in New York, the project focuses on the suitable location of a new Indian restaurant in Queens, New York. The stakeholders will determine the best location to plant a new Indian restaurant in Queens, New York.Some important characteristics of this location is that it has no Indian restaurants within 400m.\n<br>\nThis project aims to predict where to set up a new Indian restaurant in the neighborhood of Queens where there is none within 400 metres. Other parameters are used to determine the precise position on which to concentrate. Stakeholders will be involved in forecasting precisely where a new Indian restaurant would be situated for competitive advantage and business values. Others who'll be involved include Indians in that locality."
        },
        {
            "cell_type": "markdown",
            "metadata": {},
            "source": "<h5>Introduction: Problem Statement</h5>\n\nThe United States of America is one of the most diversified countries in the world. This is because it is one of the most developed countries in the world and many people from different countries flock there. These make it possible to see different cultures all cohabiting together. \n\nAs a result of this factor and many others, many different businesses have also sprouted up. There are now chinese restaurants, African restaurants, Indian restaurants, etc. \n\nThe craving for food from different  countries has also risen. For instance, a Chinese may want to try out how Indian food tastes, an american may also want to try out Afican delicacy, etc. Although there are a lot of restaurants in New York, the project focuses on the suitable location of a new Italian restaurant in Queens, New York. The stakeholders will determine the best location to plant a new Italian restaurant in cities in Newyork, United States."
        },
        {
            "cell_type": "markdown",
            "metadata": {},
            "source": "<h5>Data</h5>\n \nIn order to answer the above questions, data on New York City neighborhoods, boroughs to include boundaries, latitude, longitude, restaurants, and restaurant ratings and tips are required.\n\nNew York City data containing the neighborhoods and boroughs, latitudes, and longitudes will be obtained from the data source: https://cocl.us/new_york_dataset\n\nAll data related to locations and quality of Italian restaurants will be obtained via the FourSquare API utilized via the Request library in Python.\n"
        },
        {
            "cell_type": "markdown",
            "metadata": {},
            "source": "<h6>Methodology</h6>\n\nData will be collected from https://cocl.us/new_york_dataset and cleaned and processed into a dataframe.\n\nFourSquare be used to locate all venues and then filtered by Japanese restaurants. Ratings, tips, and likes by users will be counted and added to the dataframe.\n\nData will be sorted based on rankings.\n\nFinally, the data be will be visually assessed using graphing from Python libraries."
        },
        {
            "cell_type": "markdown",
            "metadata": {},
            "source": "<b>IMPORT ALL REQUIRED LIBRARIES</b><br>"
        },
        {
            "cell_type": "code",
            "execution_count": null,
            "metadata": {},
            "outputs": [
                {
                    "name": "stdout",
                    "output_type": "stream",
                    "text": "Solving environment: - "
                }
            ],
            "source": "import numpy as np # library to handle data in a vectorized manner\n\nimport pandas as pd # library for data analsysis\npd.set_option('display.max_columns', None)\npd.set_option('display.max_rows', None)\n\nimport requests # library to handle requests\n\n#from bs4 import BeautifulSoup\nimport os\n\n!conda install -c conda-forge folium=0.5.0 --yes\nimport folium # map rendering library\n\n#!conda install -c conda-forge geopy --yes\nfrom geopy.geocoders import Nominatim # convert an address into latitude and longitude values\nimport requests # library to handle requests\n\n# Matplotlib and associated plotting modules\nimport matplotlib.pyplot as plt\nimport matplotlib.cm as cm\nimport matplotlib.colors as colors\n%matplotlib inline\n\nimport seaborn as sns\n\nprint('Libraries imported.')"
        },
        {
            "cell_type": "markdown",
            "metadata": {},
            "source": "<b>MY CREDENTIALS, client ID, secret and Version Number from Foursquare </b><br>"
        },
        {
            "cell_type": "code",
            "execution_count": 3,
            "metadata": {},
            "outputs": [],
            "source": "# Define Foursquare Credentials and Version\n\nCLIENT_ID = 'HL3CBGYWYOVNGY1V2ZFV2ZBYXYWVGM5NCDVQXWCD0KNGVABT' # your Foursquare ID\nCLIENT_SECRET = 'XM4OKH34C01SM4G1PPVMY4FHII3CZZPEBP1TVLJTGDVXNGUR' # your Foursquare Secret\nVERSION = '20180605' # Foursquare API version\n"
        },
        {
            "cell_type": "markdown",
            "metadata": {},
            "source": "<b>MY FUNCTIONS DECLARATION AND DEFINITION</b><br>"
        },
        {
            "cell_type": "code",
            "execution_count": 4,
            "metadata": {},
            "outputs": [],
            "source": "\ndef geo_location(address):\n    # get geo location of address\n    geolocator = Nominatim(user_agent=\"foursquare_agent\")\n    location = geolocator.geocode(address)\n    latitude = location.latitude\n    longitude = location.longitude\n    return latitude,longitude\n\n\ndef get_venues(lat,lng):\n    #set variables\n    radius=400\n    LIMIT=100\n    #url to fetch data from foursquare api\n    url = 'https://api.foursquare.com/v2/venues/explore?&client_id={}&client_secret={}&v={}&ll={},{}&radius={}&limit={}'.format(\n            CLIENT_ID, \n            CLIENT_SECRET, \n            VERSION, \n            lat, \n            lng, \n            radius, \n            LIMIT)\n    # get all the data\n    results = requests.get(url).json()\n    venue_data=results['response']['groups'][0]['items']\n    venue_details=[]\n    for row in venue_data:\n        try:\n            venue_id=row['venue']['id']\n            venue_name=row['venue']['name']\n            venue_category=row['venue']['categories'][0]['name']\n            venue_details.append([venue_id,venue_name,venue_category])\n        except KeyError:\n            pass\n    column_names=['ID','Name','Category']\n    df = pd.DataFrame(venue_details,columns=column_names)\n    return df\n\n\ndef get_venue_details(venue_id):\n    #url to fetch data from foursquare api\n    url = 'https://api.foursquare.com/v2/venues/{}?&client_id={}&client_secret={}&v={}'.format(\n            venue_id,\n            CLIENT_ID, \n            CLIENT_SECRET, \n            VERSION)\n    # get all the data\n    results = requests.get(url).json()\n    print(results)\n    venue_data=results['response']['venue']\n    venue_details=[]\n    try:\n        venue_id=venue_data['id']\n        venue_name=venue_data['name']\n        venue_likes=venue_data['likes']['count']\n        venue_rating=venue_data['rating']\n        venue_tips=venue_data['tips']['count']\n        venue_details.append([venue_id,venue_name,venue_likes,venue_rating,venue_tips])\n    except KeyError:\n        pass\n    column_names=['ID','Name','Likes','Rating','Tips']\n    df = pd.DataFrame(venue_details,columns=column_names)\n    return df\n\n\ndef get_new_york_data():\n    url='https://cocl.us/new_york_dataset'\n    resp=requests.get(url).json()\n    # all data is present in features label\n    features=resp['features']\n    # define the dataframe columns\n    column_names = ['Borough', 'Neighborhood', 'Latitude', 'Longitude'] \n    # instantiate the dataframe\n    new_york_data = pd.DataFrame(columns=column_names)\n    for data in features:\n        borough = data['properties']['borough'] \n        neighborhood_name = data['properties']['name']\n        neighborhood_latlon = data['geometry']['coordinates']\n        neighborhood_lat = neighborhood_latlon[1]\n        neighborhood_lon = neighborhood_latlon[0]\n        new_york_data = new_york_data.append({'Borough': borough,\n                                          'Neighborhood': neighborhood_name,\n                                          'Latitude': neighborhood_lat,\n                                          'Longitude': neighborhood_lon}, ignore_index=True)\n    return new_york_data\n"
        },
        {
            "cell_type": "markdown",
            "metadata": {},
            "source": "<b>NewYork City Data</b><br>"
        },
        {
            "cell_type": "code",
            "execution_count": 7,
            "metadata": {},
            "outputs": [
                {
                    "ename": "NameError",
                    "evalue": "name 'requests' is not defined",
                    "output_type": "error",
                    "traceback": [
                        "\u001b[0;31m---------------------------------------------------------------------------\u001b[0m",
                        "\u001b[0;31mNameError\u001b[0m                                 Traceback (most recent call last)",
                        "\u001b[0;32m<ipython-input-7-3f7b65b9df5d>\u001b[0m in \u001b[0;36m<module>\u001b[0;34m\u001b[0m\n\u001b[0;32m----> 1\u001b[0;31m \u001b[0mny_data\u001b[0m \u001b[0;34m=\u001b[0m \u001b[0mget_new_york_data\u001b[0m\u001b[0;34m(\u001b[0m\u001b[0;34m)\u001b[0m\u001b[0;34m\u001b[0m\u001b[0;34m\u001b[0m\u001b[0m\n\u001b[0m\u001b[1;32m      2\u001b[0m \u001b[0mny_data\u001b[0m\u001b[0;34m.\u001b[0m\u001b[0mhead\u001b[0m\u001b[0;34m(\u001b[0m\u001b[0;34m)\u001b[0m\u001b[0;34m\u001b[0m\u001b[0;34m\u001b[0m\u001b[0m\n",
                        "\u001b[0;32m<ipython-input-4-a20312e42e4a>\u001b[0m in \u001b[0;36mget_new_york_data\u001b[0;34m()\u001b[0m\n\u001b[1;32m     67\u001b[0m \u001b[0;32mdef\u001b[0m \u001b[0mget_new_york_data\u001b[0m\u001b[0;34m(\u001b[0m\u001b[0;34m)\u001b[0m\u001b[0;34m:\u001b[0m\u001b[0;34m\u001b[0m\u001b[0;34m\u001b[0m\u001b[0m\n\u001b[1;32m     68\u001b[0m     \u001b[0murl\u001b[0m\u001b[0;34m=\u001b[0m\u001b[0;34m'https://cocl.us/new_york_dataset'\u001b[0m\u001b[0;34m\u001b[0m\u001b[0;34m\u001b[0m\u001b[0m\n\u001b[0;32m---> 69\u001b[0;31m     \u001b[0mresp\u001b[0m\u001b[0;34m=\u001b[0m\u001b[0mrequests\u001b[0m\u001b[0;34m.\u001b[0m\u001b[0mget\u001b[0m\u001b[0;34m(\u001b[0m\u001b[0murl\u001b[0m\u001b[0;34m)\u001b[0m\u001b[0;34m.\u001b[0m\u001b[0mjson\u001b[0m\u001b[0;34m(\u001b[0m\u001b[0;34m)\u001b[0m\u001b[0;34m\u001b[0m\u001b[0;34m\u001b[0m\u001b[0m\n\u001b[0m\u001b[1;32m     70\u001b[0m     \u001b[0;31m# all data is present in features label\u001b[0m\u001b[0;34m\u001b[0m\u001b[0;34m\u001b[0m\u001b[0;34m\u001b[0m\u001b[0m\n\u001b[1;32m     71\u001b[0m     \u001b[0mfeatures\u001b[0m\u001b[0;34m=\u001b[0m\u001b[0mresp\u001b[0m\u001b[0;34m[\u001b[0m\u001b[0;34m'features'\u001b[0m\u001b[0;34m]\u001b[0m\u001b[0;34m\u001b[0m\u001b[0;34m\u001b[0m\u001b[0m\n",
                        "\u001b[0;31mNameError\u001b[0m: name 'requests' is not defined"
                    ]
                }
            ],
            "source": "ny_data = get_new_york_data()\nny_data.head()"
        },
        {
            "cell_type": "code",
            "execution_count": 8,
            "metadata": {},
            "outputs": [
                {
                    "ename": "NameError",
                    "evalue": "name 'ny_data' is not defined",
                    "output_type": "error",
                    "traceback": [
                        "\u001b[0;31m---------------------------------------------------------------------------\u001b[0m",
                        "\u001b[0;31mNameError\u001b[0m                                 Traceback (most recent call last)",
                        "\u001b[0;32m<ipython-input-8-2b3530ee98d5>\u001b[0m in \u001b[0;36m<module>\u001b[0;34m\u001b[0m\n\u001b[0;32m----> 1\u001b[0;31m \u001b[0mny_data\u001b[0m\u001b[0;34m.\u001b[0m\u001b[0mshape\u001b[0m\u001b[0;34m\u001b[0m\u001b[0;34m\u001b[0m\u001b[0m\n\u001b[0m",
                        "\u001b[0;31mNameError\u001b[0m: name 'ny_data' is not defined"
                    ]
                }
            ],
            "source": "ny_data.shape"
        },
        {
            "cell_type": "markdown",
            "metadata": {},
            "source": "<b>DATA ANALYSIS</b><br>"
        },
        {
            "cell_type": "code",
            "execution_count": null,
            "metadata": {},
            "outputs": [],
            "source": "clr = \"green\"\nny_data.groupby('Borough')['Neighborhood'].count().plot.bar(figsize=(10,5), color=clr)\nplt.title('Neighborhoods per Borough: NYC', fontsize = 20)\nplt.xlabel('Borough', fontsize = 15)\nplt.ylabel('No. Neighborhoods',fontsize = 15)\nplt.xticks(rotation = 'horizontal')\nplt.legend()\nplt.show()"
        },
        {
            "cell_type": "markdown",
            "metadata": {},
            "source": "<b><h3>Number of Italian restaurants there are in each neighborhood and Borough</h3> </b>"
        },
        {
            "cell_type": "code",
            "execution_count": null,
            "metadata": {},
            "outputs": [],
            "source": "# queens has most neighborhoods\n# prepare neighborhood list that contains japanese restaurants\ncolumn_names=['Borough', 'Neighborhood', 'ID','Name']\nitalian_rest_ny=pd.DataFrame(columns=column_names)\ncount=1\nfor row in ny_data.values.tolist():\n    Borough, Neighborhood, Latitude, Longitude=row\n    venues = get_venues(Latitude,Longitude)\n    italian_restaurants=venues[venues['Category']=='Italian Restaurant']   \n    print('(',count,'/',len(ny_data),')','Italian Restaurants in '+Neighborhood+', '+Borough+':'+str(len(italian_restaurants)))\n    print(row)\n    for resturant_detail in italian_restaurants.values.tolist():\n        id, name , category=resturant_detail\n        italian_rest_ny = italian_rest_ny.append({'Borough': Borough,\n                                                'Neighborhood': Neighborhood, \n                                                'ID': id,\n                                                'Name' : name\n                                               }, ignore_index=True)\n    count+=1"
        },
        {
            "cell_type": "code",
            "execution_count": null,
            "metadata": {},
            "outputs": [],
            "source": "italian_rest_ny.to_csv('italian_rest_ny_tocsv1.csv')"
        },
        {
            "cell_type": "code",
            "execution_count": null,
            "metadata": {},
            "outputs": [],
            "source": "italian_ny = pd.read_csv('italian_rest_ny_tocsv1.csv')\nitalian_rest_ny.tail()"
        },
        {
            "cell_type": "code",
            "execution_count": null,
            "metadata": {},
            "outputs": [],
            "source": "italian_rest_ny.shape"
        },
        {
            "cell_type": "markdown",
            "metadata": {},
            "source": "We got 230 Italian Restaurants across the New York City. Manhattan has the highest number of Italian restaurants."
        },
        {
            "cell_type": "code",
            "execution_count": null,
            "metadata": {},
            "outputs": [],
            "source": "italian_rest_ny.groupby('Borough')['ID'].count().plot.bar(figsize=(10,5), color=clr)\nplt.title('Italian Restaurants per Borough: NYC', fontsize = 20)\nplt.xlabel('Borough', fontsize = 15)\nplt.ylabel('No. of Italian Restaurants', fontsize=15)\nplt.xticks(rotation = 'horizontal')\nplt.legend()\nplt.show()"
        },
        {
            "cell_type": "code",
            "execution_count": null,
            "metadata": {},
            "outputs": [],
            "source": "NOofNeigh = 6 # top number for graphing all the same past 6\nitalian_rest_ny.groupby('Neighborhood')['ID'].count().nlargest(NOofNeigh).plot.bar(figsize=(10,5), color=clr)\nplt.title('Italian Restaurants per Neighborhood: NYC', fontsize = 20)\nplt.xlabel('Neighborhood', fontsize = 15)\nplt.ylabel('No.of Italian Restaurants', fontsize=15)\nplt.xticks(rotation = 'horizontal')\nplt.legend()\nplt.show()"
        },
        {
            "cell_type": "code",
            "execution_count": null,
            "metadata": {},
            "outputs": [],
            "source": "italian_rest_ny[italian_rest_ny['Neighborhood']=='Belmont']"
        },
        {
            "cell_type": "markdown",
            "metadata": {},
            "source": ""
        },
        {
            "cell_type": "code",
            "execution_count": null,
            "metadata": {},
            "outputs": [],
            "source": ""
        },
        {
            "cell_type": "code",
            "execution_count": null,
            "metadata": {},
            "outputs": [],
            "source": ""
        }
    ],
    "metadata": {
        "kernelspec": {
            "display_name": "Python 3.6",
            "language": "python",
            "name": "python3"
        },
        "language_info": {
            "codemirror_mode": {
                "name": "ipython",
                "version": 3
            },
            "file_extension": ".py",
            "mimetype": "text/x-python",
            "name": "python",
            "nbconvert_exporter": "python",
            "pygments_lexer": "ipython3",
            "version": "3.6.9"
        }
    },
    "nbformat": 4,
    "nbformat_minor": 1
}